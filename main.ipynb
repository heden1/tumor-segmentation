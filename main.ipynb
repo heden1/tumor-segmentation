{
 "cells": [
  {
   "cell_type": "markdown",
   "id": "bcf06b6f-686d-419d-bb8b-44b7458bf8bb",
   "metadata": {},
   "source": [
    "# Project - Classification of Brain Tumors using Semantic segmentation"
   ]
  },
  {
   "cell_type": "code",
   "execution_count": 1,
   "id": "ee8f0134-0a0e-4f8f-b508-fb77d02b9bb7",
   "metadata": {},
   "outputs": [],
   "source": [
    "nb_fname = \"main.ipynb\""
   ]
  },
  {
   "cell_type": "code",
   "execution_count": 2,
   "id": "0647ff17-016f-4360-a128-18ee1a842914",
   "metadata": {},
   "outputs": [],
   "source": [
    "NAME1 = \"Anton Hedén\"\n",
    "NAME2 = \"Jennie Berndtson\"\n",
    "GROUP = \"Group 25\""
   ]
  },
  {
   "cell_type": "code",
   "execution_count": 3,
   "id": "250180af-0726-42ea-9631-77b24922413b",
   "metadata": {},
   "outputs": [
    {
     "data": {
      "text/html": [
       "<script>if(\"main.ipynb\" != IPython.notebook.notebook_name) { alert(\"You have filled in nb_fname = \\\"main.ipynb\\\", but this does not seem to match the notebook filename \\\"\" + IPython.notebook.notebook_name + \"\\\".\"); }</script>"
      ],
      "text/plain": [
       "<IPython.core.display.HTML object>"
      ]
     },
     "metadata": {},
     "output_type": "display_data"
    }
   ],
   "source": [
    "from IPython.display import HTML, display\n",
    "\n",
    "try:\n",
    "    display(\n",
    "        HTML(\n",
    "            r'<script>if(\"{nb_fname}\" != IPython.notebook.notebook_name) {{ alert(\"You have filled in nb_fname = \\\"{nb_fname}\\\", but this does not seem to match the notebook filename \\\"\" + IPython.notebook.notebook_name + \"\\\".\"); }}</script>'.format(\n",
    "                nb_fname=nb_fname\n",
    "            )\n",
    "        )\n",
    "    )\n",
    "except NameError:\n",
    "    assert False, \"Make sure to fill in the nb_fname variable above!\""
   ]
  },
  {
   "cell_type": "markdown",
   "id": "7a11f0bb-a56a-47ac-9b06-77b7eede0cd2",
   "metadata": {},
   "source": [
    "Importing all nesessary modules"
   ]
  },
  {
   "cell_type": "code",
   "execution_count": 4,
   "id": "23e95d9a-96bb-4c91-b3fe-7a67ea801f30",
   "metadata": {},
   "outputs": [],
   "source": [
    "import torch\n",
    "import torch.nn as nn\n",
    "import torch.nn.functional as F\n",
    "from torch.utils.data import Dataset, DataLoader\n",
    "import pandas as pd\n",
    "import numpy as np\n",
    "import matplotlib.pyplot as plt\n",
    "from sklearn.model_selection import train_test_split"
   ]
  },
  {
   "cell_type": "markdown",
   "id": "b4eb7e7b-36ca-43ff-99e9-26d236d1dde3",
   "metadata": {},
   "source": [
    "Extracting files from the dataset zip-file - uncommented to not extract the files again"
   ]
  },
  {
   "cell_type": "code",
   "execution_count": 5,
   "id": "1b984990-c277-4bda-bd2a-f8f77bb2e2f9",
   "metadata": {},
   "outputs": [],
   "source": [
    "'''\n",
    "import shutil\n",
    "from pathlib import Path\n",
    "\n",
    "data_path = Path.cwd()\n",
    "zip_file = data_path / \"archive.zip\"\n",
    "if not zip_file.exists():\n",
    "    raise FileNotFoundError(\n",
    "        \"Download and place `{}` in the current directory (`{}`)\".format(\n",
    "            zip_file.name, data_path\n",
    "        )\n",
    "    )\n",
    "\n",
    "# This is a list of all the directories and files this notebook will produce.\n",
    "# If you have run this before, we will delete them and start over from `dogs-vs-cats.zip`\n",
    "# Notice how we use the `map` function to conveniently run `Path(<filename>)` on all strings in our list,\n",
    "# to turn them in portable filepaths.\n",
    "pre_existing_items = map(\n",
    "    lambda x: data_path / Path(x),\n",
    "    [\n",
    "        \"train\",\n",
    "        \"test\",\n",
    "        \"valid\",\n",
    "    ],\n",
    ")\n",
    "\n",
    "for item in pre_existing_items:\n",
    "    if item.exists():\n",
    "        # We need to use different functions for files and directories.\n",
    "        if item.is_dir():\n",
    "            shutil.rmtree(item)\n",
    "        elif item.is_file():\n",
    "            item.unlink()\n",
    "        else:\n",
    "            print(\"Unknown item: {}, remove manually\".format(item))\n",
    "\n",
    "\n",
    "# Depending on your machine the following might take some seconds to run\n",
    "shutil.unpack_archive(data_path / Path(\"archive.zip\"), data_path)\n",
    "'''"
   ]
  },
  {
   "cell_type": "code",
   "execution_count": null,
   "id": "4707e1b2-cf09-4f9b-a663-f5666444f660",
   "metadata": {},
   "outputs": [],
   "source": []
  }
 ],
 "metadata": {
  "kernelspec": {
   "display_name": "Python 3 (ipykernel)",
   "language": "python",
   "name": "python3"
  },
  "language_info": {
   "codemirror_mode": {
    "name": "ipython",
    "version": 3
   },
   "file_extension": ".py",
   "mimetype": "text/x-python",
   "name": "python",
   "nbconvert_exporter": "python",
   "pygments_lexer": "ipython3",
   "version": "3.11.10"
  }
 },
 "nbformat": 4,
 "nbformat_minor": 5
}
