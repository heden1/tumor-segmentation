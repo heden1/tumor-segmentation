{
 "cells": [
  {
   "cell_type": "code",
   "execution_count": 72,
   "metadata": {},
   "outputs": [],
   "source": [
    "import importlib\n",
    "import preprocessing\n",
    "importlib.reload(preprocessing)\n",
    "from preprocessing import *\n"
   ]
  },
  {
   "cell_type": "code",
   "execution_count": 73,
   "metadata": {},
   "outputs": [],
   "source": [
    "#224x224 "
   ]
  },
  {
   "cell_type": "code",
   "execution_count": 93,
   "metadata": {},
   "outputs": [
    {
     "name": "stdout",
     "output_type": "stream",
     "text": [
      "Size of training dataset: 1502\n",
      "Size of validation dataset: 429\n"
     ]
    }
   ],
   "source": [
    "BATCH_SIZE=128\n",
    "IMAGE_SIZE=(64,64)\n",
    "train_loader,val_loader=create_dataloader(IMAGE_SIZE,batch_size=BATCH_SIZE,bbox_out=False)\n",
    "val_dataset = val_loader.dataset\n",
    "\n",
    "\n",
    "# Get the datasets\n",
    "train_dataset = train_loader.dataset\n",
    "val_dataset = val_loader.dataset\n",
    "\n",
    "# Print the size of the datasets\n",
    "print(f\"Size of training dataset: {len(train_dataset)}\")\n",
    "print(f\"Size of validation dataset: {len(val_dataset)}\")"
   ]
  },
  {
   "cell_type": "code",
   "execution_count": 94,
   "metadata": {},
   "outputs": [],
   "source": [
    "class DiceLoss(nn.Module):\n",
    "    def __init__(self, smooth=1e-6):\n",
    "        super(DiceLoss, self).__init__()\n",
    "        self.smooth = smooth\n",
    "\n",
    "    def forward(self, inputs, targets):\n",
    "        # Flatten the tensors\n",
    "        inputs = inputs.view(-1)\n",
    "        targets = targets.view(-1)\n",
    "        \n",
    "        # Calculate intersection and union\n",
    "        intersection = (inputs * targets).sum()\n",
    "        dice = (2. * intersection + self.smooth) / (inputs.sum() + targets.sum() + self.smooth)\n",
    "        \n",
    "        return 1 - dice\n",
    "\n",
    "\n",
    "dice_loss = DiceLoss()"
   ]
  },
  {
   "cell_type": "code",
   "execution_count": 103,
   "metadata": {},
   "outputs": [
    {
     "name": "stderr",
     "output_type": "stream",
     "text": [
      "Using cache found in /Users/anton_heden/.cache/torch/hub/mateuszbuda_brain-segmentation-pytorch_master\n"
     ]
    }
   ],
   "source": [
    "model = torch.hub.load('mateuszbuda/brain-segmentation-pytorch', 'unet',\n",
    "    in_channels=3, out_channels=1, init_features=32, pretrained=True)"
   ]
  },
  {
   "cell_type": "code",
   "execution_count": 104,
   "metadata": {},
   "outputs": [
    {
     "name": "stdout",
     "output_type": "stream",
     "text": [
      "Starting training\n",
      "Training on device mps\n"
     ]
    },
    {
     "name": "stderr",
     "output_type": "stream",
     "text": [
      "100%|██████████| 12/12 [00:18<00:00,  1.55s/it]\n"
     ]
    },
    {
     "name": "stdout",
     "output_type": "stream",
     "text": [
      "Epoch 1/1: Train loss: 0.953, Train f1.: 0.047, Train accuracy: 0.913, Val. loss: 0.977, Val. f1.: 0.023 Val. accuracy: 0.948\n",
      "Training time: 23.198913097381592s\n"
     ]
    }
   ],
   "source": [
    "import torch\n",
    "import train \n",
    "importlib.reload(train)\n",
    "from train import training_loop\n",
    "import time\n",
    "\n",
    "# Freeze all layers\n",
    "for param in model.parameters():\n",
    "    param.requires_grad = False\n",
    "\n",
    "# Unfreeze the last layer (or any specific layers you want to train)\n",
    "for param in model.decoder4.parameters():\n",
    "    param.requires_grad = True\n",
    "\n",
    "# Define the optimizer and loss function\n",
    "optimizer = torch.optim.SGD(filter(lambda p: p.requires_grad, model.parameters()), lr=0.01, momentum=0.9, weight_decay=0.0005)\n",
    "loss_fn= DiceLoss()\n",
    "star_time=time.time()\n",
    "unet_metrics=training_loop(model, optimizer, loss_fn, train_loader, val_loader, num_epochs=1)\n",
    "end_time=time.time()    \n",
    "\n",
    "print(f\"Training time: {end_time-star_time}s\")"
   ]
  },
  {
   "cell_type": "code",
   "execution_count": 14,
   "metadata": {},
   "outputs": [
    {
     "ename": "NameError",
     "evalue": "name 'unet_metrics' is not defined",
     "output_type": "error",
     "traceback": [
      "\u001b[0;31m---------------------------------------------------------------------------\u001b[0m",
      "\u001b[0;31mNameError\u001b[0m                                 Traceback (most recent call last)",
      "Cell \u001b[0;32mIn[14], line 7\u001b[0m\n\u001b[1;32m      3\u001b[0m \u001b[38;5;28;01mfrom\u001b[39;00m \u001b[38;5;21;01mvisualisation\u001b[39;00m \u001b[38;5;28;01mimport\u001b[39;00m \u001b[38;5;241m*\u001b[39m\n\u001b[1;32m      4\u001b[0m \u001b[38;5;66;03m#save_model_to_file(unet_metrics, 'unet_brain2_seg.pth')\u001b[39;00m\n\u001b[0;32m----> 7\u001b[0m plot_performance_metrics([\u001b[43munet_metrics\u001b[49m],batch_size\u001b[38;5;241m=\u001b[39mBATCH_SIZE)\n\u001b[1;32m      8\u001b[0m val_dataset \u001b[38;5;241m=\u001b[39m val_loader\u001b[38;5;241m.\u001b[39mdataset\n\u001b[1;32m     11\u001b[0m \u001b[38;5;66;03m# Plot comparison for a specific index\u001b[39;00m\n",
      "\u001b[0;31mNameError\u001b[0m: name 'unet_metrics' is not defined"
     ]
    }
   ],
   "source": [
    "import visualisation\n",
    "importlib.reload(visualisation)\n",
    "from visualisation import *\n",
    "\n",
    "\n",
    "plot_performance_metrics([unet_metrics],batch_size=BATCH_SIZE)\n",
    "val_dataset = val_loader.dataset\n",
    "\n",
    "\n",
    "# Plot comparison for a specific index\n",
    "plot_comparison([0,1,2], val_dataset, unet_metrics[0])"
   ]
  },
  {
   "cell_type": "code",
   "execution_count": 91,
   "metadata": {},
   "outputs": [
    {
     "ename": "ModuleNotFoundError",
     "evalue": "No module named 'numpy._core'",
     "output_type": "error",
     "traceback": [
      "\u001b[0;31m---------------------------------------------------------------------------\u001b[0m",
      "\u001b[0;31mModuleNotFoundError\u001b[0m                       Traceback (most recent call last)",
      "Cell \u001b[0;32mIn[91], line 7\u001b[0m\n\u001b[1;32m      4\u001b[0m \u001b[38;5;28;01mimport\u001b[39;00m \u001b[38;5;21;01mnumpy\u001b[39;00m \u001b[38;5;28;01mas\u001b[39;00m \u001b[38;5;21;01mnp\u001b[39;00m\n\u001b[1;32m      6\u001b[0m \u001b[38;5;66;03m# Load the model and performance metrics\u001b[39;00m\n\u001b[0;32m----> 7\u001b[0m trained_metrics \u001b[38;5;241m=\u001b[39m \u001b[43mget_model_and_performance_metrics\u001b[49m\u001b[43m(\u001b[49m\u001b[38;5;124;43m\"\u001b[39;49m\u001b[38;5;124;43munet_brain2_seg_640.pth\u001b[39;49m\u001b[38;5;124;43m\"\u001b[39;49m\u001b[43m,\u001b[49m\u001b[43m \u001b[49m\u001b[43mmodel\u001b[49m\u001b[43m)\u001b[49m\n\u001b[1;32m      8\u001b[0m \u001b[38;5;66;03m#plot_performance_metrics([trained_metrics],batch_size=16)\u001b[39;00m\n\u001b[1;32m      9\u001b[0m \n\u001b[1;32m     10\u001b[0m \u001b[38;5;66;03m# Get the validation dataset\u001b[39;00m\n\u001b[1;32m     11\u001b[0m val_dataset \u001b[38;5;241m=\u001b[39m val_loader\u001b[38;5;241m.\u001b[39mdataset\n",
      "File \u001b[0;32m~/Documents/Programing/deep-machine-learning/Project/tumor-segmentation/visualisation.py:65\u001b[0m, in \u001b[0;36mget_model_and_performance_metrics\u001b[0;34m(filename, model_class)\u001b[0m\n\u001b[1;32m     63\u001b[0m \u001b[38;5;28;01mdef\u001b[39;00m \u001b[38;5;21mget_model_and_performance_metrics\u001b[39m(filename,model_class):\n\u001b[1;32m     64\u001b[0m     device \u001b[38;5;241m=\u001b[39m torch\u001b[38;5;241m.\u001b[39mdevice(\u001b[38;5;124m\"\u001b[39m\u001b[38;5;124mcuda\u001b[39m\u001b[38;5;124m\"\u001b[39m \u001b[38;5;28;01mif\u001b[39;00m torch\u001b[38;5;241m.\u001b[39mcuda\u001b[38;5;241m.\u001b[39mis_available() \u001b[38;5;28;01melse\u001b[39;00m (\u001b[38;5;124m\"\u001b[39m\u001b[38;5;124mcpu\u001b[39m\u001b[38;5;124m\"\u001b[39m))\n\u001b[0;32m---> 65\u001b[0m     checkpoint \u001b[38;5;241m=\u001b[39m \u001b[43mtorch\u001b[49m\u001b[38;5;241;43m.\u001b[39;49m\u001b[43mload\u001b[49m\u001b[43m(\u001b[49m\u001b[43mfilename\u001b[49m\u001b[43m,\u001b[49m\u001b[43m \u001b[49m\u001b[43mmap_location\u001b[49m\u001b[38;5;241;43m=\u001b[39;49m\u001b[43mdevice\u001b[49m\u001b[43m)\u001b[49m\n\u001b[1;32m     66\u001b[0m     model_class\u001b[38;5;241m.\u001b[39mload_state_dict(checkpoint[\u001b[38;5;124m\"\u001b[39m\u001b[38;5;124mmodel_state_dict\u001b[39m\u001b[38;5;124m\"\u001b[39m])\n\u001b[1;32m     67\u001b[0m     \u001b[38;5;28;01mreturn\u001b[39;00m model_class, checkpoint[\u001b[38;5;124m\"\u001b[39m\u001b[38;5;124mtrain_losses\u001b[39m\u001b[38;5;124m\"\u001b[39m], checkpoint[\u001b[38;5;124m\"\u001b[39m\u001b[38;5;124mtrain_accs\u001b[39m\u001b[38;5;124m\"\u001b[39m], checkpoint[\u001b[38;5;124m\"\u001b[39m\u001b[38;5;124mval_losses\u001b[39m\u001b[38;5;124m\"\u001b[39m], checkpoint[\u001b[38;5;124m\"\u001b[39m\u001b[38;5;124mval_accs\u001b[39m\u001b[38;5;124m\"\u001b[39m]\n",
      "File \u001b[0;32m/Users/anaconda3/envs/dml/lib/python3.11/site-packages/torch/serialization.py:1025\u001b[0m, in \u001b[0;36mload\u001b[0;34m(f, map_location, pickle_module, weights_only, mmap, **pickle_load_args)\u001b[0m\n\u001b[1;32m   1023\u001b[0m             \u001b[38;5;28;01mexcept\u001b[39;00m \u001b[38;5;167;01mRuntimeError\u001b[39;00m \u001b[38;5;28;01mas\u001b[39;00m e:\n\u001b[1;32m   1024\u001b[0m                 \u001b[38;5;28;01mraise\u001b[39;00m pickle\u001b[38;5;241m.\u001b[39mUnpicklingError(UNSAFE_MESSAGE \u001b[38;5;241m+\u001b[39m \u001b[38;5;28mstr\u001b[39m(e)) \u001b[38;5;28;01mfrom\u001b[39;00m \u001b[38;5;28;01mNone\u001b[39;00m\n\u001b[0;32m-> 1025\u001b[0m         \u001b[38;5;28;01mreturn\u001b[39;00m \u001b[43m_load\u001b[49m\u001b[43m(\u001b[49m\u001b[43mopened_zipfile\u001b[49m\u001b[43m,\u001b[49m\n\u001b[1;32m   1026\u001b[0m \u001b[43m                     \u001b[49m\u001b[43mmap_location\u001b[49m\u001b[43m,\u001b[49m\n\u001b[1;32m   1027\u001b[0m \u001b[43m                     \u001b[49m\u001b[43mpickle_module\u001b[49m\u001b[43m,\u001b[49m\n\u001b[1;32m   1028\u001b[0m \u001b[43m                     \u001b[49m\u001b[43moverall_storage\u001b[49m\u001b[38;5;241;43m=\u001b[39;49m\u001b[43moverall_storage\u001b[49m\u001b[43m,\u001b[49m\n\u001b[1;32m   1029\u001b[0m \u001b[43m                     \u001b[49m\u001b[38;5;241;43m*\u001b[39;49m\u001b[38;5;241;43m*\u001b[39;49m\u001b[43mpickle_load_args\u001b[49m\u001b[43m)\u001b[49m\n\u001b[1;32m   1030\u001b[0m \u001b[38;5;28;01mif\u001b[39;00m mmap:\n\u001b[1;32m   1031\u001b[0m     f_name \u001b[38;5;241m=\u001b[39m \u001b[38;5;124m\"\u001b[39m\u001b[38;5;124m\"\u001b[39m \u001b[38;5;28;01mif\u001b[39;00m \u001b[38;5;129;01mnot\u001b[39;00m \u001b[38;5;28misinstance\u001b[39m(f, \u001b[38;5;28mstr\u001b[39m) \u001b[38;5;28;01melse\u001b[39;00m \u001b[38;5;124mf\u001b[39m\u001b[38;5;124m\"\u001b[39m\u001b[38;5;132;01m{\u001b[39;00mf\u001b[38;5;132;01m}\u001b[39;00m\u001b[38;5;124m, \u001b[39m\u001b[38;5;124m\"\u001b[39m\n",
      "File \u001b[0;32m/Users/anaconda3/envs/dml/lib/python3.11/site-packages/torch/serialization.py:1446\u001b[0m, in \u001b[0;36m_load\u001b[0;34m(zip_file, map_location, pickle_module, pickle_file, overall_storage, **pickle_load_args)\u001b[0m\n\u001b[1;32m   1444\u001b[0m unpickler \u001b[38;5;241m=\u001b[39m UnpicklerWrapper(data_file, \u001b[38;5;241m*\u001b[39m\u001b[38;5;241m*\u001b[39mpickle_load_args)\n\u001b[1;32m   1445\u001b[0m unpickler\u001b[38;5;241m.\u001b[39mpersistent_load \u001b[38;5;241m=\u001b[39m persistent_load\n\u001b[0;32m-> 1446\u001b[0m result \u001b[38;5;241m=\u001b[39m \u001b[43munpickler\u001b[49m\u001b[38;5;241;43m.\u001b[39;49m\u001b[43mload\u001b[49m\u001b[43m(\u001b[49m\u001b[43m)\u001b[49m\n\u001b[1;32m   1448\u001b[0m torch\u001b[38;5;241m.\u001b[39m_utils\u001b[38;5;241m.\u001b[39m_validate_loaded_sparse_tensors()\n\u001b[1;32m   1449\u001b[0m torch\u001b[38;5;241m.\u001b[39m_C\u001b[38;5;241m.\u001b[39m_log_api_usage_metadata(\n\u001b[1;32m   1450\u001b[0m     \u001b[38;5;124m\"\u001b[39m\u001b[38;5;124mtorch.load.metadata\u001b[39m\u001b[38;5;124m\"\u001b[39m, {\u001b[38;5;124m\"\u001b[39m\u001b[38;5;124mserialization_id\u001b[39m\u001b[38;5;124m\"\u001b[39m: zip_file\u001b[38;5;241m.\u001b[39mserialization_id()}\n\u001b[1;32m   1451\u001b[0m )\n",
      "File \u001b[0;32m/Users/anaconda3/envs/dml/lib/python3.11/site-packages/torch/serialization.py:1439\u001b[0m, in \u001b[0;36m_load.<locals>.UnpicklerWrapper.find_class\u001b[0;34m(self, mod_name, name)\u001b[0m\n\u001b[1;32m   1437\u001b[0m         \u001b[38;5;28;01mpass\u001b[39;00m\n\u001b[1;32m   1438\u001b[0m mod_name \u001b[38;5;241m=\u001b[39m load_module_mapping\u001b[38;5;241m.\u001b[39mget(mod_name, mod_name)\n\u001b[0;32m-> 1439\u001b[0m \u001b[38;5;28;01mreturn\u001b[39;00m \u001b[38;5;28msuper\u001b[39m()\u001b[38;5;241m.\u001b[39mfind_class(mod_name, name)\n",
      "\u001b[0;31mModuleNotFoundError\u001b[0m: No module named 'numpy._core'"
     ]
    }
   ],
   "source": [
    "import visualisation\n",
    "importlib.reload(visualisation)\n",
    "from visualisation import *\n",
    "import numpy as np\n",
    "\n",
    "# Load the model and performance metrics\n",
    "trained_metrics = get_model_and_performance_metrics(\"unet_brain2_seg_640.pth\", model)\n",
    "#plot_performance_metrics([trained_metrics],batch_size=16)\n",
    "\n",
    "# Get the validation dataset\n",
    "val_dataset = val_loader.dataset\n",
    "\n",
    "\n",
    "# Plot comparison for a specific index\n",
    "#Crea list from 20 to 50\n",
    "\n",
    "\n",
    "plot_comparison([74], val_dataset, model)"
   ]
  },
  {
   "cell_type": "code",
   "execution_count": null,
   "metadata": {},
   "outputs": [
    {
     "name": "stderr",
     "output_type": "stream",
     "text": [
      " 60%|██████    | 130/215 [00:06<00:04, 20.97it/s]"
     ]
    }
   ],
   "source": [
    "import train\n",
    "import preprocessing\n",
    "importlib.reload(train)\n",
    "importlib.reload(preprocessing)\n",
    "from train import predict_and_calc_f1\n",
    "from preprocessing import *\n",
    "trained_metrics = get_model_and_performance_metrics(\"unet_brain_seg.pth\", model)\n",
    "model=trained_metrics[0]\n",
    "resize_size=(224,224)\n",
    "transform_mean=[0.485, 0.456, 0.406]\n",
    "transform_std=[0.229, 0.224, 0.225]\n",
    "    # Define transformations\n",
    "image_transform = transforms.Compose([\n",
    "    transforms.Resize(resize_size),  # Resize images to 256x256\n",
    "    transforms.ToTensor(),\n",
    "    transforms.Normalize(mean=transform_mean, std=transform_std)\n",
    "])\n",
    "\n",
    "mask_transform = transforms.Compose([\n",
    "    transforms.Resize(resize_size),  # Resize masks to 256x256\n",
    "    transforms.ToTensor()\n",
    "])\n",
    "\n",
    "# Load COCO annotations for training and validation sets\n",
    "test_json_path = 'test/_annotations.coco.json'\n",
    "test_img_dir = 'test'\n",
    "\n",
    "train_images, train_annotations, train_categories = load_coco_annotations(test_json_path)\n",
    "\n",
    "\n",
    "# Create datasets and dataloaders\n",
    "test_dataset = BrainData(train_images, train_annotations, test_img_dir, image_transform=image_transform,mask_transform=mask_transform) \n",
    "test_dataloader = DataLoader(test_dataset, batch_size=1, shuffle=True)\n",
    "\n",
    "\n",
    "\n",
    "device = torch.device(\"cuda\" if torch.cuda.is_available() else (\"mps\" if torch.backends.mps.is_available() else \"cpu\"))\n",
    "\n",
    "#print(predict_and_calc_f1(model, test_dataloader,device))\n",
    "f1_scores=predict_and_calc_f1(model, test_dataloader,device)\n",
    "print(np.mean(f1_scores))\n"
   ]
  },
  {
   "cell_type": "code",
   "execution_count": 111,
   "metadata": {},
   "outputs": [
    {
     "data": {
      "image/png": "[encoded data removed]",
      "text/plain": [
       "<Figure size 1200x100 with 2 Axes>"
      ]
     },
     "metadata": {},
     "output_type": "display_data"
    }
   ],
   "source": [
    "\n",
    "import numpy as np\n",
    "import matplotlib.pyplot as plt\n",
    "import seaborn as sns\n",
    "\n",
    "# Create a histogram to represent the density of numbers\n",
    "hist, bins = np.histogram(f1_scores, bins=50, range=(0, 1))\n",
    "\n",
    "# Normalize the histogram\n",
    "hist = hist / hist.max()\n",
    "\n",
    "# Create a 2D array for the heatmap\n",
    "heatmap_data = np.tile(hist, (10, 1))\n",
    "\n",
    "# Create the plot\n",
    "plt.figure(figsize=(12, 1))  # Wide and low in height\n",
    "num_ticks = 11\n",
    "tick_positions = np.linspace(0, heatmap_data.shape[1], num_ticks)\n",
    "tick_labels = np.linspace(0, 1, num_ticks)\n",
    "\n",
    "\n",
    "sns.heatmap(heatmap_data, cmap='viridis', cbar=True, xticklabels=True, yticklabels=False,cbar_kws={\"shrink\": 1, \"aspect\": 2})\n",
    "plt.xticks(tick_positions, [f\"{label:.1f}\" for label in tick_labels])\n",
    "\n",
    "plt.title('F1-scores distribution on test set in U-NET model')\n",
    "plt.xlabel('F1-score')\n",
    "#plt.ylabel('Intensity')\n",
    "plt.show()"
   ]
  },
  {
   "cell_type": "code",
   "execution_count": null,
   "metadata": {},
   "outputs": [],
   "source": []
  }
 ],
 "metadata": {
  "kernelspec": {
   "display_name": "dml",
   "language": "python",
   "name": "python3"
  },
  "language_info": {
   "codemirror_mode": {
    "name": "ipython",
    "version": 3
   },
   "file_extension": ".py",
   "mimetype": "text/x-python",
   "name": "python",
   "nbconvert_exporter": "python",
   "pygments_lexer": "ipython3",
   "version": "3.11.0"
  }
 },
 "nbformat": 4,
 "nbformat_minor": 2
}
